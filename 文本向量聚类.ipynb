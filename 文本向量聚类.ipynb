{
 "cells": [
  {
   "cell_type": "code",
   "execution_count": 1,
   "id": "a9ec2a73",
   "metadata": {},
   "outputs": [
    {
     "data": {
      "application/vnd.jupyter.widget-view+json": {
       "model_id": "99a157f3333e41e9b6a43775c0ea2ae4",
       "version_major": 2,
       "version_minor": 0
      },
      "text/plain": [
       "Downloading (…)okenizer_config.json:   0%|          | 0.00/319 [00:00<?, ?B/s]"
      ]
     },
     "metadata": {},
     "output_type": "display_data"
    },
    {
     "name": "stderr",
     "output_type": "stream",
     "text": [
      "D:\\Anaconda\\envs\\py310code\\Lib\\site-packages\\huggingface_hub\\file_download.py:133: UserWarning: `huggingface_hub` cache-system uses symlinks by default to efficiently store duplicated files but your machine does not support them in C:\\Users\\hasee\\.cache\\huggingface\\hub. Caching files will still work but in a degraded version that might require more space on your disk. This warning can be disabled by setting the `HF_HUB_DISABLE_SYMLINKS_WARNING` environment variable. For more details, see https://huggingface.co/docs/huggingface_hub/how-to-cache#limitations.\n",
      "To support symlinks on Windows, you either need to activate Developer Mode or to run Python as an administrator. In order to see activate developer mode, see this article: https://docs.microsoft.com/en-us/windows/apps/get-started/enable-your-device-for-development\n",
      "  warnings.warn(message)\n"
     ]
    },
    {
     "data": {
      "application/vnd.jupyter.widget-view+json": {
       "model_id": "dcc569b4d64c411ca041a0027fc7f2f7",
       "version_major": 2,
       "version_minor": 0
      },
      "text/plain": [
       "Downloading (…)solve/main/vocab.txt:   0%|          | 0.00/110k [00:00<?, ?B/s]"
      ]
     },
     "metadata": {},
     "output_type": "display_data"
    },
    {
     "data": {
      "application/vnd.jupyter.widget-view+json": {
       "model_id": "3b6e6d74e42a4917b7910b9989bf6143",
       "version_major": 2,
       "version_minor": 0
      },
      "text/plain": [
       "Downloading (…)cial_tokens_map.json:   0%|          | 0.00/112 [00:00<?, ?B/s]"
      ]
     },
     "metadata": {},
     "output_type": "display_data"
    },
    {
     "data": {
      "application/vnd.jupyter.widget-view+json": {
       "model_id": "1a84c5e71fbb4457a1f4f50df40660e7",
       "version_major": 2,
       "version_minor": 0
      },
      "text/plain": [
       "Downloading (…)lve/main/config.json:   0%|          | 0.00/856 [00:00<?, ?B/s]"
      ]
     },
     "metadata": {},
     "output_type": "display_data"
    },
    {
     "data": {
      "application/vnd.jupyter.widget-view+json": {
       "model_id": "3a7e6aaa8f0a481ead909806e8e1a8b1",
       "version_major": 2,
       "version_minor": 0
      },
      "text/plain": [
       "Downloading pytorch_model.bin:   0%|          | 0.00/409M [00:00<?, ?B/s]"
      ]
     },
     "metadata": {},
     "output_type": "display_data"
    },
    {
     "name": "stderr",
     "output_type": "stream",
     "text": [
      "\u001b[32m2023-11-16 20:29:32.409\u001b[0m | \u001b[34m\u001b[1mDEBUG   \u001b[0m | \u001b[36mtext2vec.sentence_model\u001b[0m:\u001b[36m__init__\u001b[0m:\u001b[36m76\u001b[0m - \u001b[34m\u001b[1mUse device: cuda\u001b[0m\n"
     ]
    },
    {
     "data": {
      "text/plain": [
       "array([-4.43495228e-04, -2.97347546e-01,  8.57901275e-01,  6.90650702e-01,\n",
       "        3.96458983e-01, -8.48927438e-01, -1.91569403e-01,  8.45486373e-02,\n",
       "        4.02329296e-01,  3.19662750e-01, -5.57638407e-02,  4.48000908e-01,\n",
       "        3.13500106e-01, -2.80795932e-01, -5.08029759e-01, -6.67012870e-01,\n",
       "       -6.74592018e-01,  1.13552034e+00, -3.32654417e-01,  3.99530053e-01,\n",
       "        5.70722640e-01, -3.85513276e-01, -5.17035961e-01,  7.54722714e-01,\n",
       "        6.89286068e-02, -3.10941655e-02,  1.99816316e-01, -2.25233398e-02,\n",
       "       -5.93793035e-01,  1.13403249e+00, -3.81763518e-01,  4.26663250e-01,\n",
       "       -1.45577359e+00,  5.53026378e-01, -6.70520663e-01,  4.27066654e-01,\n",
       "        6.30097389e-01, -1.82200849e-01,  1.40885085e-01, -2.66234912e-02,\n",
       "       -1.72763914e-01, -9.78276283e-02, -1.47475290e+00, -6.00415409e-01,\n",
       "        2.97164414e-02,  5.77365994e-01, -8.06342363e-01, -7.07512021e-01,\n",
       "       -9.82230544e-01,  3.50677431e-01, -3.99872482e-01,  3.19298553e+00,\n",
       "       -4.98136021e-02,  3.74578834e-01, -4.78959143e-01,  1.76943064e+00,\n",
       "        6.47280157e-01, -3.72175992e-01, -1.11415410e+00,  4.02653068e-01,\n",
       "        4.98040259e-01, -2.28671394e-02,  4.96699363e-01, -1.58558583e+00,\n",
       "       -2.62033999e-01,  2.61199534e-01, -9.40677375e-02,  2.56702870e-01,\n",
       "        4.02886808e-01, -9.31903720e-01,  5.83845854e-01, -1.10238515e-01,\n",
       "       -8.03160518e-02,  2.50181645e-01,  4.59784530e-02,  6.67413831e-01,\n",
       "        5.96470118e-01, -1.37836826e+00, -2.35718355e-01, -6.95461392e-01,\n",
       "       -4.22806114e-01,  8.71532857e-02, -8.27823222e-01, -5.07168055e-01,\n",
       "        2.07147196e-01, -5.29467583e-01,  3.57885361e-01, -2.27437705e-01,\n",
       "        8.18405449e-01, -1.37777746e-01,  7.26966918e-01, -4.37237620e-01,\n",
       "        1.89708680e-01,  5.80367029e-01, -1.59344196e-01,  5.79247577e-03,\n",
       "        9.93274093e-01, -1.52701271e+00, -4.03230369e-01,  3.63286048e-01,\n",
       "        7.39534914e-01,  9.12894085e-02, -4.39780235e-01, -9.09424722e-01,\n",
       "       -4.19901311e-01, -5.30418932e-01,  2.45791689e-01,  8.63770068e-01,\n",
       "       -2.87040472e-01, -5.18458746e-02,  1.05604576e-02,  9.18447495e-01,\n",
       "       -3.57633196e-02,  2.84548223e-01,  8.81627738e-01,  2.47319072e-01,\n",
       "       -3.67897332e-01,  5.18388212e-01,  5.34321368e-01, -4.49416429e-01,\n",
       "        5.62353060e-02, -7.13100731e-01,  2.69149095e-01, -7.04607844e-01,\n",
       "       -5.04159212e-01,  3.49970222e-01,  2.49646474e-02, -4.39409120e-03,\n",
       "       -4.75742787e-01,  1.29609346e+00,  2.65209258e-01, -2.04609469e-01,\n",
       "       -1.66937277e-01, -4.37442273e-01,  2.44231954e-01, -4.32406217e-01,\n",
       "       -5.77302992e-01, -3.49992484e-01, -1.13098645e+00, -1.23824477e+00,\n",
       "       -2.06102625e-01, -4.18011665e-01,  6.78278655e-02, -1.88672513e-01,\n",
       "        1.29916203e+00, -7.76819065e-02, -7.76131988e-01,  9.38535482e-02,\n",
       "        1.12424147e+00, -1.19631064e+00, -5.97056329e-01,  9.02292132e-01,\n",
       "        1.69278607e-02,  6.95973113e-02,  2.97809243e-01,  1.36889033e-02,\n",
       "        5.63567542e-02,  9.45072114e-01, -8.97941351e-01, -9.52625990e-01,\n",
       "        8.61950338e-01, -1.91980824e-01, -6.37762427e-01, -2.77016945e-02,\n",
       "        7.20967650e-01,  6.22002065e-01,  3.11484843e-01,  1.42554790e-01,\n",
       "       -5.63676618e-02, -1.81298971e-01, -7.57724643e-01, -1.27251494e+00,\n",
       "       -5.90203345e-01,  1.54532045e-01,  3.57743055e-01, -2.56824642e-01,\n",
       "        5.09483099e-01,  6.20091893e-02, -5.65120935e-01, -2.14317769e-01,\n",
       "       -3.04561406e-01, -9.51804072e-02,  7.90193498e-01, -2.57638276e-01,\n",
       "        3.85808289e-01, -6.60829008e-01, -1.74747467e-01,  7.06982374e-01,\n",
       "        3.57668430e-01, -1.21191785e-01,  4.71981585e-01,  6.59381151e-01,\n",
       "        1.51277184e-01, -1.04157650e+00,  4.11366671e-02,  2.37523720e-01,\n",
       "        7.24658668e-02, -4.15483028e-01, -5.36578834e-01, -5.90686560e-01,\n",
       "       -3.23738933e-01,  3.70184749e-01,  3.53282571e-01, -1.96978509e-01,\n",
       "        1.76270634e-01,  5.91958404e-01, -9.01500642e-01, -6.07968748e-01,\n",
       "       -3.54581207e-01,  8.89643669e-01, -9.73008752e-01, -1.03090215e+00,\n",
       "       -3.83531928e-01,  4.94577259e-01,  5.05382240e-01,  5.60601354e-01,\n",
       "        4.53469425e-01, -3.61961037e-01, -8.99936259e-01,  8.20386350e-01,\n",
       "        4.79553014e-01,  7.43919492e-01,  4.57270354e-01, -5.83987594e-01,\n",
       "       -2.07986742e-01, -9.05421495e-01,  5.40133612e-03,  3.62261146e-01,\n",
       "        1.23406482e+00,  9.53190506e-01, -3.92095977e-03, -2.26405472e-01,\n",
       "       -5.39549232e-01,  4.36586052e-01, -3.03920895e-01, -3.38331372e-01,\n",
       "        8.81573260e-01,  8.61771405e-02, -6.74465716e-01, -1.18011844e+00,\n",
       "       -4.52811718e-01,  6.11839354e-01, -6.79449439e-01,  1.10547636e-02,\n",
       "       -1.55157864e-01, -2.22138226e-01, -6.90326095e-01, -1.37145787e-01,\n",
       "        8.77390921e-01, -5.67310929e-01,  8.32384050e-01,  2.62176454e-01,\n",
       "        2.02933148e-01, -7.79461741e-01,  1.72648773e-01, -1.02375306e-01,\n",
       "       -2.66687591e-02, -1.60788223e-01, -3.86829525e-01,  4.08708781e-01,\n",
       "        6.20917559e-01,  4.94383164e-02,  1.78554311e-01,  7.25342035e-01,\n",
       "        8.17588508e-01, -2.20347911e-01,  5.70144057e-02, -2.72928506e-01,\n",
       "       -3.00150484e-01,  6.78707957e-01,  2.45795250e-01,  2.87497401e-01,\n",
       "       -1.26132023e+00, -3.80587429e-01,  9.30839702e-02,  4.67941701e-01,\n",
       "       -3.38338792e-01, -8.04371834e-02, -7.97466338e-01, -8.68334398e-02,\n",
       "       -7.76985228e-01,  4.60758954e-01,  5.80937803e-01,  8.87920618e-01,\n",
       "       -1.13870747e-01, -7.36510605e-02, -8.37452829e-01, -3.05743404e-02,\n",
       "       -2.09549636e-01,  8.53269577e-01,  2.15938434e-01, -3.43371294e-02,\n",
       "       -3.24148595e-01,  8.01299155e-01,  2.08616829e+00, -5.84791422e-01,\n",
       "       -5.87559819e-01,  3.80279839e-01,  7.44122922e-01,  2.23146692e-01,\n",
       "        8.70550692e-01, -1.81991816e-01, -3.16278994e-01,  1.53609908e+00,\n",
       "       -9.64983940e-01,  7.62268066e-01,  2.39561215e-01, -2.97926962e-01,\n",
       "        1.24236472e-01, -2.13681132e-01, -1.27433077e-01, -1.28733322e-01,\n",
       "       -2.37046927e-01,  6.78594887e-01,  3.97018552e-01,  4.49384212e-01,\n",
       "       -3.61302435e-01,  1.22389364e+00,  6.75070405e-01, -1.45555034e-01,\n",
       "        2.64865965e-01,  5.27393878e-01,  1.43025231e+00,  9.03949142e-01,\n",
       "        1.50019193e+00,  1.71521187e-01,  3.59063447e-01, -6.92587614e-01,\n",
       "       -2.19649643e-01,  1.98770780e-02,  1.09045410e+00, -3.24188024e-02,\n",
       "        6.07089162e-01,  1.18295681e+00,  2.91906625e-01,  4.99357194e-01,\n",
       "       -7.05974638e-01, -5.48057020e-01, -1.98325634e-01, -1.11029947e+00,\n",
       "        5.31679034e-01, -2.54966557e-01, -4.14390624e-01, -1.01626134e+00,\n",
       "        5.05634665e-01, -4.31098938e-01,  1.01478624e+00, -1.44175422e+00,\n",
       "       -2.27679655e-01, -1.28417647e+00,  2.08027810e-01,  6.56576455e-01,\n",
       "       -2.93395936e-01,  3.82959723e-01, -1.09943223e+00,  1.29545718e-01,\n",
       "        3.51836145e-01, -7.56221339e-02,  3.22820812e-01,  6.16875887e-02,\n",
       "       -9.92257714e-01, -7.09762335e-01, -9.37268913e-01,  1.05365944e+00,\n",
       "        3.37035924e-01, -4.73377287e-01,  8.33795309e-01,  3.42911899e-01,\n",
       "       -9.35956061e-01, -3.61509472e-01,  6.65706575e-01,  2.00621128e-01,\n",
       "        8.76124203e-02, -3.72775376e-01, -1.36388773e-02, -4.31299686e-01,\n",
       "       -1.02910054e+00,  5.44419646e-01,  9.04826283e-01,  1.69564438e+00,\n",
       "        1.63252044e+00, -9.34400916e-01,  6.29775405e-01,  2.07294873e-03,\n",
       "       -2.22738534e-01,  4.63332921e-01,  1.79982424e-01, -5.82494974e-01,\n",
       "        2.11934354e-02, -7.84044385e-01, -2.28788301e-01, -3.65790650e-02,\n",
       "       -9.63368416e-01, -7.13267744e-01,  3.04668307e-01,  9.30935502e-01,\n",
       "       -7.71666914e-02,  2.89367139e-01, -2.40864143e-01,  1.63202357e+00,\n",
       "       -3.29833388e-01, -4.30190027e-01, -5.68806887e-01, -8.61775637e-01,\n",
       "        3.68535876e-01,  7.62745738e-01, -7.44777799e-01, -1.65274784e-01,\n",
       "       -8.43120575e-01,  4.14030999e-01, -8.23562682e-01,  6.17194712e-01,\n",
       "       -6.81445777e-01,  1.44575524e+00,  7.18307734e-01, -8.55498075e-01,\n",
       "        1.24711320e-01,  4.82870847e-01,  9.45732117e-01, -8.16958189e-01,\n",
       "       -1.43275768e-01,  2.55245424e-04,  1.28531694e+00,  2.82094926e-01,\n",
       "        6.95395827e-01,  3.49297851e-01, -1.17612731e+00,  1.82351753e-01,\n",
       "        2.98855126e-01,  8.50286037e-02, -1.45383215e+00,  7.15440586e-02,\n",
       "       -9.36617196e-01,  4.10485864e-01,  6.17744960e-02,  4.54116881e-01,\n",
       "       -8.71815264e-01,  7.04676092e-01,  2.05737114e-01,  4.15584415e-01,\n",
       "       -2.97210872e-01, -4.64796759e-02, -6.08825564e-01,  1.24407716e-01,\n",
       "       -8.98332059e-01,  8.50021124e-01,  6.17126405e-01,  1.65695716e-02,\n",
       "        6.54756844e-01,  1.03447795e-01,  6.70207679e-01,  7.58721590e-01,\n",
       "       -7.93511927e-01, -6.26665413e-01, -5.75625718e-01, -4.18951392e-01,\n",
       "       -5.21737635e-01, -8.56972575e-01,  3.35252166e-01,  1.07881069e+00,\n",
       "        4.90229309e-01, -8.08241785e-01, -7.69013047e-01, -9.77157149e-03,\n",
       "        5.47212437e-02, -4.60096687e-01, -3.26149106e-01, -3.13813716e-01,\n",
       "        1.07741749e+00,  1.40188277e-01, -6.59721673e-01,  1.05742729e+00,\n",
       "       -3.43126297e-01, -6.28712714e-01,  5.82052946e-01, -8.43915045e-02,\n",
       "       -4.72017467e-01,  3.32362831e-01, -8.14453721e-01, -4.06490982e-01,\n",
       "        1.96281731e+00, -7.89915994e-02, -4.81985420e-01, -1.23607397e+00,\n",
       "        6.06751561e-01,  9.20626700e-01, -2.06168041e-01,  7.28977501e-01,\n",
       "       -5.32854080e-01, -5.39852560e-01, -9.45327878e-01,  4.01600987e-01,\n",
       "       -3.61087054e-01, -8.80630732e-01,  1.03566408e+00, -7.58587897e-01,\n",
       "       -6.68861344e-02,  7.38362372e-01, -3.07255745e-01, -3.63884151e-01,\n",
       "       -2.94839710e-01,  8.82365182e-02,  5.28154910e-01,  8.89444053e-02,\n",
       "       -9.03160810e-01,  3.44207823e-01, -1.18874788e-01,  6.51177108e-01,\n",
       "        4.11359131e-01,  8.50771740e-02, -6.20804131e-01, -8.70694816e-01,\n",
       "       -8.56529951e-01,  2.16648251e-01,  1.27656829e+00, -5.28280914e-01,\n",
       "       -5.93554437e-01,  5.89338243e-01,  3.91505063e-01,  1.64985096e+00,\n",
       "        1.91981450e-01,  2.05929354e-01,  6.40513971e-02, -2.45851919e-01,\n",
       "        3.77444923e-01,  4.43657756e-01,  4.20490146e-01, -7.26273775e-01,\n",
       "       -6.38583601e-01,  7.39417672e-01,  3.85160595e-01, -4.97391075e-02,\n",
       "       -8.32120061e-01, -1.04590976e+00,  5.35498885e-03,  9.03028369e-01,\n",
       "       -6.10970080e-01, -3.39075848e-02,  7.92449594e-01, -1.23478842e+00,\n",
       "       -7.64868975e-01,  1.02324978e-01, -9.36671674e-01, -1.93305939e-01,\n",
       "        3.78359020e-01, -3.73579562e-01,  3.45263809e-01,  6.06652617e-01,\n",
       "        6.37488604e-01, -7.37011909e-01,  2.36502320e-01, -3.41369569e-01,\n",
       "       -2.35425323e-01,  8.93095315e-01,  8.01147759e-01, -5.91225147e-01,\n",
       "       -6.64265513e-01, -7.94921517e-01, -2.53868312e-01, -1.65880308e-01,\n",
       "       -8.14959466e-01, -2.44005192e-02, -1.53318775e+00, -4.68070179e-01,\n",
       "       -5.28449178e-01, -3.09706539e-01,  2.71641672e-01, -6.50439203e-01,\n",
       "       -1.07116961e+00, -7.97263145e-01, -5.19099891e-01,  5.10201275e-01,\n",
       "       -3.68526667e-01,  1.84749633e-01, -2.13845477e-01, -6.78913116e-01,\n",
       "        6.99234545e-01, -2.85925537e-01,  6.82709992e-01, -1.55201212e-01,\n",
       "        3.05034816e-01,  2.85538316e-01,  5.98776698e-01, -1.23325872e+00,\n",
       "       -6.48886025e-01,  4.53108430e-01, -4.23641175e-01,  2.89251566e-01,\n",
       "        9.59427476e-01, -6.03872657e-01, -1.87674895e-01,  5.53640306e-01,\n",
       "        2.03733407e-02,  6.45582199e-01,  3.25084478e-02,  6.91907287e-01,\n",
       "        2.08584175e-01, -1.13814082e-02, -8.19376051e-01,  3.39537263e-01,\n",
       "       -8.02217796e-02,  9.61243272e-01,  6.93579793e-01, -6.94774032e-01,\n",
       "       -8.47660601e-01,  1.76555544e-01,  1.06122184e+00,  3.73176694e-01,\n",
       "        3.67789596e-01,  5.59856415e-01, -1.40908670e+00, -4.20545600e-02,\n",
       "        7.00952649e-01, -4.93068248e-02, -6.97351873e-01,  6.22526836e-03,\n",
       "        7.13341296e-01, -8.49293992e-02, -1.01076388e+00, -2.14083418e-01,\n",
       "        3.42471421e-01, -8.56433928e-01, -1.37059063e-01,  3.66498441e-01,\n",
       "       -1.36076617e+00, -1.04395628e+00,  6.08332992e-01,  1.71349418e+00,\n",
       "       -2.37482399e-01,  6.74219847e-01,  7.49867260e-02,  1.50700182e-01,\n",
       "       -7.59880245e-02, -1.02368343e+00,  1.29192591e-01,  1.02470064e+00,\n",
       "       -2.00216677e-02,  8.20574105e-01, -2.10985258e-01,  8.81300569e-01,\n",
       "        5.97619712e-01, -3.87818307e-01,  2.36322403e-01, -8.20554197e-02,\n",
       "        4.24011886e-01, -5.65981865e-01,  7.62077928e-01,  1.99492082e-01,\n",
       "       -5.57497382e-01, -6.21569574e-01, -2.96620578e-01,  1.49143147e+00,\n",
       "        4.16889191e-02, -6.62761152e-01, -3.95396873e-02,  1.31998688e-01,\n",
       "        2.26977006e-01, -7.08364487e-01, -7.93242097e-01, -4.29816917e-02,\n",
       "       -1.63762867e-01,  6.03783369e-01,  7.44006395e-01,  1.01737127e-01,\n",
       "       -8.50755751e-01, -5.93261123e-01, -5.29948950e-01,  1.47087902e-01,\n",
       "       -7.24152565e-01,  2.53030658e-01,  1.31580734e+00,  1.60385513e+00,\n",
       "        3.11013073e-01, -2.24160746e-01,  9.24080491e-01,  1.98495135e-01,\n",
       "       -1.10946107e+00, -4.13385093e-01,  5.03181756e-01, -6.92189276e-01,\n",
       "        6.86308667e-02,  3.11714530e-01, -5.55187464e-01,  1.32764831e-01,\n",
       "        1.01105779e-01, -1.32122433e+00, -1.03394496e+00, -3.09229910e-01,\n",
       "       -2.67660469e-01, -8.67221296e-01,  2.05965489e-01,  6.47642791e-01,\n",
       "       -1.39221981e-01, -1.11679316e+00,  2.35894751e-02,  2.97332168e+00,\n",
       "       -1.02160525e+00,  3.08033258e-01, -1.73996776e-01, -1.30431741e-01,\n",
       "       -6.93040133e-01,  2.93988526e-01,  5.44892967e-01, -2.43780464e-01,\n",
       "       -3.88980061e-01,  8.22751783e-03, -7.62202322e-01, -2.74380505e-01,\n",
       "       -6.97738886e-01,  2.11234409e-02, -9.90498066e-03,  1.49334818e-02,\n",
       "        2.57110476e-01, -2.17989147e-01,  1.08652242e-01,  7.17362046e-01,\n",
       "        1.69788659e+00,  2.59496301e-01,  2.04823792e-01, -1.44869256e+00,\n",
       "        1.21381927e+00,  1.69263035e-01, -3.88251618e-02, -9.47633147e-01,\n",
       "        5.47283709e-01,  3.21601897e-01,  6.79135919e-01,  8.33740354e-01,\n",
       "        9.54169214e-01,  4.84987468e-01, -2.09304839e-01, -4.84012097e-01,\n",
       "       -1.14410913e+00, -1.07479230e-01, -4.86821920e-01,  9.88353014e-01,\n",
       "       -7.84764528e-01, -5.11650033e-02,  2.93671936e-01, -4.13537174e-01,\n",
       "       -6.04606032e-01,  5.29625677e-02,  5.20174444e-01, -6.17396891e-01,\n",
       "        2.43283764e-01,  3.21713388e-01, -6.72165215e-01, -5.99038959e-01,\n",
       "        7.82152534e-01,  3.62468928e-01, -8.68616626e-02,  5.30263126e-01,\n",
       "       -6.45810068e-01, -2.32893318e-01, -1.51562020e-01, -2.10838348e-01,\n",
       "        1.41465437e+00,  3.22361678e-01, -3.74453478e-02,  4.40476716e-01,\n",
       "        2.72327494e-02, -1.01030302e+00,  1.00995624e+00,  2.73629814e-01,\n",
       "        4.83784169e-01, -5.27701497e-01, -1.43156230e-01, -1.00078516e-01],\n",
       "      dtype=float32)"
      ]
     },
     "execution_count": 1,
     "metadata": {},
     "output_type": "execute_result"
    }
   ],
   "source": [
    ">>> from text2vec import SentenceModel\n",
    ">>> m = SentenceModel()\n",
    ">>> m.encode(\"如何更换花呗绑定银行卡\")\n"
   ]
  },
  {
   "cell_type": "code",
   "execution_count": 1,
   "id": "5a2ce2e3",
   "metadata": {},
   "outputs": [
    {
     "name": "stdout",
     "output_type": "stream",
     "text": [
      "D:\\KnowlegdgeGraph\\code\\NLP\n"
     ]
    }
   ],
   "source": [
    "import os\n",
    "print(os.getcwd())"
   ]
  },
  {
   "cell_type": "markdown",
   "id": "32b391cf",
   "metadata": {},
   "source": [
    "## 文本向量化"
   ]
  },
  {
   "cell_type": "code",
   "execution_count": 3,
   "id": "c963c17c",
   "metadata": {},
   "outputs": [
    {
     "data": {
      "application/vnd.jupyter.widget-view+json": {
       "model_id": "b01d937fc5304b6692e926967a2b0d54",
       "version_major": 2,
       "version_minor": 0
      },
      "text/plain": [
       "Downloading (…)okenizer_config.json:   0%|          | 0.00/366 [00:00<?, ?B/s]"
      ]
     },
     "metadata": {},
     "output_type": "display_data"
    },
    {
     "data": {
      "application/vnd.jupyter.widget-view+json": {
       "model_id": "fd673d6c71924ded8007c926c3143ba6",
       "version_major": 2,
       "version_minor": 0
      },
      "text/plain": [
       "Downloading (…)solve/main/vocab.txt:   0%|          | 0.00/110k [00:00<?, ?B/s]"
      ]
     },
     "metadata": {},
     "output_type": "display_data"
    },
    {
     "data": {
      "application/vnd.jupyter.widget-view+json": {
       "model_id": "2894f72036044a42b9e11f7bfd187aea",
       "version_major": 2,
       "version_minor": 0
      },
      "text/plain": [
       "Downloading (…)/main/tokenizer.json:   0%|          | 0.00/439k [00:00<?, ?B/s]"
      ]
     },
     "metadata": {},
     "output_type": "display_data"
    },
    {
     "data": {
      "application/vnd.jupyter.widget-view+json": {
       "model_id": "2057657d3ce548d39e78447421318f51",
       "version_major": 2,
       "version_minor": 0
      },
      "text/plain": [
       "Downloading (…)cial_tokens_map.json:   0%|          | 0.00/125 [00:00<?, ?B/s]"
      ]
     },
     "metadata": {},
     "output_type": "display_data"
    },
    {
     "data": {
      "application/vnd.jupyter.widget-view+json": {
       "model_id": "7032ce68e03d4d1cbc930c117d2472a6",
       "version_major": 2,
       "version_minor": 0
      },
      "text/plain": [
       "Downloading (…)lve/main/config.json:   0%|          | 0.00/978 [00:00<?, ?B/s]"
      ]
     },
     "metadata": {},
     "output_type": "display_data"
    },
    {
     "data": {
      "application/vnd.jupyter.widget-view+json": {
       "model_id": "bcb96003b79f4fbf8f7ad4fddb63d37f",
       "version_major": 2,
       "version_minor": 0
      },
      "text/plain": [
       "Downloading pytorch_model.bin:   0%|          | 0.00/1.30G [00:00<?, ?B/s]"
      ]
     },
     "metadata": {},
     "output_type": "display_data"
    },
    {
     "name": "stderr",
     "output_type": "stream",
     "text": [
      "\u001b[32m2023-11-17 09:42:49.790\u001b[0m | \u001b[34m\u001b[1mDEBUG   \u001b[0m | \u001b[36mtext2vec.sentence_model\u001b[0m:\u001b[36m__init__\u001b[0m:\u001b[36m76\u001b[0m - \u001b[34m\u001b[1mUse device: cuda\u001b[0m\n",
      "100%|██████████| 9231/9231 [04:40<00:00, 32.86it/s]\n"
     ]
    }
   ],
   "source": [
    "import text2vec\n",
    "from tqdm import tqdm\n",
    "import pandas as pd\n",
    "\n",
    "# 读取数据\n",
    "#df = pd.read_excel('D:\\\\KnowlegdgeGraph\\\\para模型聚类数据\\\\句子原始信息\\\\事故防范和整改措施-分句.xlsx')\n",
    "df = pd.read_excel('D:\\\\4.SupervisedLearning\\\\责任人员分句（逗号和句号）手动.xlsx')\n",
    "df.fillna(' ', inplace=True) \n",
    "#t2v_model = text2vec.SentenceModel(\"shibing624/text2vec-base-chinese-paraphrase\")\n",
    "t2v_model = text2vec.SentenceModel(\"shibing624/text2vec-bge-large-chinese\")\n",
    "\n",
    "\n",
    "\n",
    "# 打印进度条     \n",
    "with tqdm(total=len(df)) as pbar:\n",
    "    \n",
    "    # 存储结果    \n",
    "    results = []\n",
    "    \n",
    "    for i, row in df.iterrows():  \n",
    "        \n",
    "        # 为每条摘要生成向量\n",
    "        #embedding = t2v_model.encode(row['事故防范和整改措施'])\n",
    "        embedding = t2v_model.encode(row['短句子'])\n",
    "        # 存储结果 \n",
    "        results.append([row['短句编号'], *embedding])  \n",
    "        \n",
    "        # 更新进度条   \n",
    "        pbar.update(1)\n",
    "        \n",
    "    df_result = pd.DataFrame(results, columns=['短句编号'] + [f'embed_{i}' for i in range(embedding.shape[0])]) \n",
    "\n",
    "# 保存结果   \n",
    "#df_result.to_excel('D:\\\\KnowlegdgeGraph\\\\para模型聚类数据\\\\段落向量化结果\\\\事故防范和整改措施向量化.xlsx', index=False)\n",
    "df_result.to_excel('D:\\\\4.SupervisedLearning\\\\责任短句向量化.xlsx', index=False)"
   ]
  },
  {
   "cell_type": "code",
   "execution_count": 73,
   "id": "e4b75c93",
   "metadata": {},
   "outputs": [
    {
     "name": "stdout",
     "output_type": "stream",
     "text": [
      "总共运行了0.005秒\n"
     ]
    }
   ],
   "source": [
    "import pandas as pd\n",
    "from sklearn.cluster import AgglomerativeClustering\n",
    "from tqdm import tqdm\n",
    "import time \n",
    "import os   \n",
    "\n",
    "# 读取数据      \n",
    "df = pd.read_excel('D:\\\\KnowlegdgeGraph\\\\TextDataset\\\\vector\\\\摘要向量.xlsx')  \n",
    "\n",
    "# 提取特征        \n",
    "X = df.drop('事故编号', axis=1).values   \n",
    "\n",
    "# 起始时间\n",
    "start = time.time()\n",
    "\n",
    "# 进行层次聚类      \n",
    "cluster = AgglomerativeClustering(n_clusters=20, linkage='ward')    \n",
    "cluster.fit_predict(X)\n",
    "\n",
    "# 终止时间        \n",
    "end = time.time()    \n",
    "\n",
    "# 聚类结果        \n",
    "labels = cluster.labels_   \n",
    "\n",
    "# 样本名称      \n",
    "names = df['事故编号'].values\n",
    "\n",
    "#结果数据框  \n",
    "results = pd.DataFrame({'事故编号':names, '分类':labels})     \n",
    "\n",
    "#输出目录\n",
    "path = r'D:\\\\KnowlegdgeGraph\\\\TextDataset\\\\vector'  \n",
    "if not os.path.exists(path):\n",
    "     os.makedirs(path)\n",
    "\n",
    "#保存结果表格      \n",
    "results.to_excel(os.path.join(path,'层次聚类.xlsx'), index = False)   \n",
    "\n",
    "# 运行时间  \n",
    "print(f'总共运行了{end-start:.3f}秒')"
   ]
  },
  {
   "cell_type": "markdown",
   "id": "59acf4c9",
   "metadata": {},
   "source": [
    "## 无监督聚类评价"
   ]
  },
  {
   "cell_type": "code",
   "execution_count": 47,
   "id": "fa0e4c89",
   "metadata": {},
   "outputs": [
    {
     "name": "stderr",
     "output_type": "stream",
     "text": [
      "100%|██████████| 13/13 [00:00<00:00, 23.98it/s]"
     ]
    },
    {
     "name": "stdout",
     "output_type": "stream",
     "text": [
      "    n_clusters  silhouette  calinski_harabasz  davies_bouldin\n",
      "0            2    0.032968           6.384865        4.913897\n",
      "1            3    0.034970           5.587543        4.161612\n",
      "2            4    0.022117           5.324020        3.996882\n",
      "3            5    0.019392           5.017086        3.810771\n",
      "4            6    0.025096           4.841316        3.600927\n",
      "5            7    0.024572           4.578732        3.482157\n",
      "6            8    0.021743           4.391592        3.346208\n",
      "7            9    0.026106           4.254881        3.140853\n",
      "8           10    0.029670           4.104762        3.107948\n",
      "9           11    0.028935           3.983836        3.015000\n",
      "10          12    0.022782           3.856437        3.017419\n",
      "11          13    0.025694           3.748477        2.957332\n",
      "12          14    0.027700           3.651766        2.843522\n"
     ]
    },
    {
     "name": "stderr",
     "output_type": "stream",
     "text": [
      "\n"
     ]
    }
   ],
   "source": [
    "import pandas as pd\n",
    "from sklearn.cluster import AgglomerativeClustering\n",
    "from sklearn.metrics import silhouette_score, calinski_harabasz_score, davies_bouldin_score\n",
    "from tqdm import tqdm\n",
    "import time \n",
    "import os \n",
    "\n",
    "# 读取数据      \n",
    "data = pd.read_excel('D:\\\\KnowlegdgeGraph\\\\TextDataset\\\\vector\\\\事故发生经过向量化.xlsx', index_col=0, header=0)\n",
    "\n",
    "# 提取特征        \n",
    "#X = data.drop('事故编号', axis=1).values   \n",
    "\n",
    "def hierarchical_clustering(data, n_clusters):\n",
    "    # 构建聚类模型\n",
    "    model = AgglomerativeClustering(n_clusters=n_clusters)\n",
    "    # 进行聚类分析\n",
    "    labels = model.fit_predict(data)\n",
    "    # 计算各种评价指标\n",
    "    silhouette = silhouette_score(data, labels)\n",
    "    calinski_harabasz = calinski_harabasz_score(data, labels)\n",
    "    davies_bouldin = davies_bouldin_score(data, labels)\n",
    "    # 返回聚类结果和评价指标\n",
    "    return labels, silhouette, calinski_harabasz, davies_bouldin\n",
    "\n",
    "# 定义n_clusters参数的范围\n",
    "n_clusters_range = range(2, 16)\n",
    "# 初始化结果列表\n",
    "results = []\n",
    "# 遍历n_clusters参数的范围\n",
    "for n_clusters in tqdm(n_clusters_range):\n",
    "    # 进行聚类分析，并获得聚类结果和评价指标\n",
    "    labels, silhouette, calinski_harabasz, davies_bouldin = hierarchical_clustering(data, n_clusters)\n",
    "    # 将聚类结果和评价指标保存到结果列表中\n",
    "    results.append({\n",
    "        'n_clusters': n_clusters,\n",
    "        'labels': labels,\n",
    "        'silhouette': silhouette,\n",
    "        'calinski_harabasz': calinski_harabasz,\n",
    "        'davies_bouldin': davies_bouldin\n",
    "    })\n",
    "    \n",
    "# 将结果列表保存到Excel文件中\n",
    "pd.DataFrame(results).to_excel('D:\\\\KnowlegdgeGraph\\\\TextDataset\\\\vector\\\\无监督聚类评价\\\\事故发生经过clustering_results.xlsx', index=False)\n",
    "\n",
    "# 输出聚类效果评价指标的表格\n",
    "df = pd.DataFrame(results)\n",
    "print(df[['n_clusters', 'silhouette', 'calinski_harabasz', 'davies_bouldin']])"
   ]
  },
  {
   "cell_type": "markdown",
   "id": "2622c3e8",
   "metadata": {},
   "source": [
    "## 聚类结果输出"
   ]
  },
  {
   "cell_type": "code",
   "execution_count": 44,
   "id": "026bf0cf",
   "metadata": {},
   "outputs": [],
   "source": [
    "import pandas as pd\n",
    "from sklearn.cluster import AgglomerativeClustering\n",
    "from sklearn.metrics import silhouette_score, calinski_harabasz_score, davies_bouldin_score\n",
    "from tqdm import tqdm\n",
    "import time \n",
    "import os \n",
    "# 记录程序开始时间\n",
    "start_time = time.time()\n",
    "# 读取数据\n",
    "#data = pd.read_excel('D:\\\\KnowlegdgeGraph\\\\para模型聚类数据\\\\段落向量化结果\\\\事故防范和整改措施向量化.xlsx', index_col=0, header=0)\n",
    "data = pd.read_excel('D:\\\\KnowlegdgeGraph\\\\para模型聚类数据\\\\段落向量化结果\\\\直接原因向量化.xlsx', index_col=0, header=0)\n",
    "def hierarchical_clustering(data, n_clusters):\n",
    "    # 构建聚类模型\n",
    "    model = AgglomerativeClustering(n_clusters=n_clusters)\n",
    "    # 进行聚类分析\n",
    "    labels = model.fit_predict(data)\n",
    "    # 将标签从0~n-1转换为1~n\n",
    "    labels += 1\n",
    "    # 返回聚类结果\n",
    "    return labels\n",
    "\n",
    "# 定义n_clusters参数的范围\n",
    "n_clusters_range = range(2, 16)\n",
    "# 初始化结果字典\n",
    "results = {}\n",
    "# 遍历n_clusters参数的范围\n",
    "for n_clusters in tqdm(n_clusters_range):\n",
    "    # 进行聚类分析，并获得聚类结果\n",
    "    labels = hierarchical_clustering(data, n_clusters)\n",
    "    # 将聚类结果保存到结果字典中\n",
    "    results[f'分类{n_clusters}'] = labels\n",
    "\n",
    "# 将聚类结果保存到DataFrame中\n",
    "df = pd.DataFrame(results, index=data.index)\n",
    "#df.index.name = '句编号'\n",
    "df.index.name = '事故编号'\n",
    "print(df)\n",
    "#df.to_excel('D:\\\\KnowlegdgeGraph\\\\para模型聚类数据\\\\多参数聚类情况\\\\事故防范和整改措施聚类情况.xlsx')\n",
    "df.to_excel('D:\\\\KnowlegdgeGraph\\\\para模型聚类数据\\\\多参数聚类情况\\\\直接原因聚类情况a.xlsx')\n",
    "\n",
    "# 计算程序运行时间并打印\n",
    "end_time = time.time()\n",
    "run_time = end_time - start_time\n",
    "print(\"程序运行时间：{:.3f}秒\".format(run_time))"
   ]
  },
  {
   "cell_type": "markdown",
   "id": "e78fe971",
   "metadata": {},
   "source": [
    "## 计算基于多参数层次聚类的相似度矩阵"
   ]
  },
  {
   "cell_type": "code",
   "execution_count": 45,
   "id": "3fad9985",
   "metadata": {},
   "outputs": [],
   "source": [
    "import pandas as pd\n",
    "from tqdm import tqdm\n",
    "import numpy as np\n",
    "# 记录程序开始时间\n",
    "start_time = time.time()\n",
    "# 读取原始数据\n",
    "data = pd.read_excel('D:\\\\KnowlegdgeGraph\\\\para模型聚类数据\\\\多参数聚类情况\\\\直接原因聚类情况a.xlsx', index_col=0, header=0)\n",
    "\n",
    "# 初始化相似度矩阵\n",
    "similarity_matrix = pd.DataFrame(index=data.index, columns=data.index, dtype=float)\n",
    "\n",
    "# 计算相似度矩阵\n",
    "for i, row in tqdm(enumerate(data.index), desc='计算相似度矩阵', total=len(data.index)):\n",
    "    for j, col in enumerate(data.index):\n",
    "        similarity = 0\n",
    "        for n_clusters in range(2, 16):\n",
    "            label_i = data.loc[row, f'分类{n_clusters}']\n",
    "            label_j = data.loc[col, f'分类{n_clusters}']\n",
    "            if label_i == label_j:\n",
    "                similarity += n_clusters\n",
    "        similarity_matrix.loc[row, col] = similarity\n",
    "        \n",
    "#矩阵归一化\n",
    "normalized_matrix = np.divide(similarity_matrix, 119)\n",
    "\n",
    "# 将相似度矩阵保存到Excel文件中\n",
    "#similarity_matrix.to_excel('D:\\KnowlegdgeGraph\\TextDataset\\相似度矩阵\\直接原因层次聚类相似度矩阵.xlsx', sheet_name='初始相似度')\n",
    "normalized_matrix.to_excel('D:\\KnowlegdgeGraph\\para模型聚类数据\\基于层次聚类的相似度矩阵\\直接原因相似度矩阵b2.xlsx', sheet_name='归一化')\n",
    "\n",
    "# 计算程序运行时间并打印\n",
    "end_time = time.time()\n",
    "run_time = end_time - start_time\n",
    "print(\"程序运行时间：{:.3f}秒\".format(run_time))"
   ]
  },
  {
   "cell_type": "markdown",
   "id": "fa871663",
   "metadata": {},
   "source": [
    "### 绘制相似度分布图"
   ]
  },
  {
   "cell_type": "code",
   "execution_count": 32,
   "id": "ac01acc8",
   "metadata": {},
   "outputs": [
    {
     "data": {
      "image/png": "[encoded data removed]",
      "text/plain": [
       "<Figure size 800x600 with 1 Axes>"
      ]
     },
     "metadata": {},
     "output_type": "display_data"
    },
    {
     "data": {
      "image/png": "[encoded data removed]",
      "text/plain": [
       "<Figure size 800x800 with 1 Axes>"
      ]
     },
     "metadata": {},
     "output_type": "display_data"
    }
   ],
   "source": [
    "import pandas as pd\n",
    "import matplotlib.pyplot as plt\n",
    "import numpy as np\n",
    "\n",
    "# 读取数据\n",
    "data = pd.read_excel(r'D:\\KnowlegdgeGraph\\para模型聚类数据\\基于层次聚类的相似度矩阵\\直接原因相似度矩阵.xlsx', index_col=0)\n",
    "\n",
    "# 取出主对角线以上的数据\n",
    "#scores = data.where(pd.np.triu(pd.np.ones(data.shape)).astype(bool)).stack().values\n",
    "#scores = data.where(~pd.np.eye(data.shape[0], dtype=bool)).stack().values\n",
    "# 生成上三角矩阵掩码\n",
    "mask = np.triu(np.ones(data.shape), k=1).astype(bool)\n",
    "\n",
    "# 应用掩码提取主对角线以上的数据\n",
    "scores = data.where(mask).stack().values\n",
    "\n",
    "# 绘制直方图\n",
    "fig, ax = plt.subplots(figsize=(8, 6))\n",
    "bins = np.arange(0, 1.01, 0.01)\n",
    "ax.hist(scores, bins=bins, edgecolor='black')\n",
    "ax.set_xlabel('Similarity Score')\n",
    "ax.set_ylabel('Frequency')\n",
    "ax.set_title('DirectReason')\n",
    "plt.show()\n",
    "\n",
    "# 绘制扇形图\n",
    "fig, ax = plt.subplots(figsize=(8, 8))\n",
    "\n",
    "# 计算每个区间的占比\n",
    "bins = np.linspace(0, 1, 11)\n",
    "counts, bins = np.histogram(scores, bins=bins)\n",
    "counts = counts.astype(float) / counts.sum()\n",
    "\n",
    "# 为每个区间添加标签\n",
    "labels = ['{:.1f}-{:.1f}'.format(bins[i], bins[i+1]) for i in range(len(bins)-1)]\n",
    "\n",
    "# 绘制扇形图，显示区间的数值\n",
    "def autopct_format(value):\n",
    "    return '{:.1f}%\\n({:.0f})'.format(value, value * len(scores))\n",
    "\n",
    "ax.pie(\n",
    "    counts, labels=labels, startangle=-90,\n",
    "    autopct='%.1f%%', labeldistance=1.1,\n",
    "    pctdistance=0.8, textprops={'fontsize': 12},\n",
    "    wedgeprops={'width': 1.0},rotatelabels=True,\n",
    ")\n",
    "ax.set_title('DirectReason')\n",
    "\n",
    "plt.show()"
   ]
  },
  {
   "cell_type": "markdown",
   "id": "7092c5de",
   "metadata": {},
   "source": [
    "## 相似度矩阵提取node和edge文件"
   ]
  },
  {
   "cell_type": "code",
   "execution_count": 46,
   "id": "a80628df",
   "metadata": {},
   "outputs": [],
   "source": [
    "import os\n",
    "import pandas as pd\n",
    "from tqdm import tqdm\n",
    "\n",
    "# 读取 Excel 文件\n",
    "input_file_path = r'D:\\KnowlegdgeGraph\\para模型聚类数据\\基于层次聚类的相似度矩阵\\建议追究责任人员相似度矩阵.xlsx'\n",
    "#input_file_path = r'D:\\KnowlegdgeGraph\\TextDataset\\7texts\\直接原因试验.xlsx'\n",
    "df = pd.read_excel(input_file_path, index_col=0)\n",
    "\n",
    "# 将小于等于0的元素设置为NaN\n",
    "df.mask(df <= 0, inplace=True)\n",
    "\n",
    "# 将矩阵转化为边列表\n",
    "edges = []\n",
    "for i, col in enumerate(tqdm(df.columns, desc='Processing edges')):\n",
    "    for j, row in enumerate(df.index):\n",
    "        if pd.notna(df.loc[row, col]) and j < i:\n",
    "            edges.append((row, col, df.loc[row, col]))\n",
    "\n",
    "# 生成节点信息\n",
    "nodes = list(df.index)\n",
    "node_dict = {}\n",
    "for i, node in enumerate(nodes):\n",
    "    node_dict[node] = str(i + 1)\n",
    "\n",
    "# 生成边信息\n",
    "edge_str = 'source\\ttarget\\tweight\\n'\n",
    "for i, (n1, n2, weight) in enumerate(tqdm(edges, desc='Generating edges')):\n",
    "    edge_str += f'{node_dict[n1]}\\t{node_dict[n2]}\\t{weight}\\n'\n",
    "\n",
    "# 保存节点信息  \n",
    "node_str = 'id\\tlabel\\n'\n",
    "for node, node_id in node_dict.items():\n",
    "    node_str += f'{node_id}\\t\"{node}\"\\n'\n",
    "node_file_path = r'D:\\KnowlegdgeGraph\\para模型聚类数据\\Vosviewer\\输入Vos\\建议追究责任人员node.txt'\n",
    "with open(node_file_path, 'w', encoding='utf-8') as f:\n",
    "    f.write(node_str)\n",
    "\n",
    "# 保存边信息\n",
    "edge_file_path = r'D:\\KnowlegdgeGraph\\para模型聚类数据\\Vosviewer\\输入Vos\\建议追究责任人员edge.txt'\n",
    "with open(edge_file_path, 'w', encoding='utf-8') as f:\n",
    "    f.write(edge_str)"
   ]
  },
  {
   "cell_type": "code",
   "execution_count": 47,
   "id": "d0396808",
   "metadata": {},
   "outputs": [],
   "source": [
    "import os\n",
    "import pandas as pd\n",
    "from tqdm import tqdm\n",
    "\n",
    "# 读取 Excel 文件\n",
    "input_file_path = r'D:\\KnowlegdgeGraph\\para模型聚类数据\\基于层次聚类的相似度矩阵\\事故防范和整改措施相似度矩阵.xlsx'\n",
    "#input_file_path = r'D:\\KnowlegdgeGraph\\TextDataset\\7texts\\直接原因试验.xlsx'\n",
    "df = pd.read_excel(input_file_path, index_col=0)\n",
    "\n",
    "# 将小于等于0的元素设置为NaN\n",
    "df.mask(df <= 0, inplace=True)\n",
    "\n",
    "# 将矩阵转化为边列表\n",
    "edges = []\n",
    "for i, col in enumerate(tqdm(df.columns, desc='Processing edges')):\n",
    "    for j, row in enumerate(df.index):\n",
    "        if pd.notna(df.loc[row, col]) and j < i:\n",
    "            edges.append((row, col, df.loc[row, col]))\n",
    "\n",
    "# 生成节点信息\n",
    "nodes = list(df.index)\n",
    "node_dict = {}\n",
    "for i, node in enumerate(nodes):\n",
    "    node_dict[node] = str(i + 1)\n",
    "\n",
    "# 生成边信息\n",
    "edge_str = 'source\\ttarget\\tweight\\n'\n",
    "for i, (n1, n2, weight) in enumerate(tqdm(edges, desc='Generating edges')):\n",
    "    edge_str += f'{node_dict[n1]}\\t{node_dict[n2]}\\t{weight}\\n'\n",
    "\n",
    "# 保存节点信息  \n",
    "node_str = 'id\\tlabel\\n'\n",
    "for node, node_id in node_dict.items():\n",
    "    node_str += f'{node_id}\\t\"{node}\"\\n'\n",
    "node_file_path = r'D:\\KnowlegdgeGraph\\para模型聚类数据\\Vosviewer\\输入Vos\\事故防范和整改措施node.txt'\n",
    "with open(node_file_path, 'w', encoding='utf-8') as f:\n",
    "    f.write(node_str)\n",
    "\n",
    "# 保存边信息\n",
    "edge_file_path = r'D:\\KnowlegdgeGraph\\para模型聚类数据\\Vosviewer\\输入Vos\\事故防范和整改措施edge.txt'\n",
    "with open(edge_file_path, 'w', encoding='utf-8') as f:\n",
    "    f.write(edge_str)"
   ]
  },
  {
   "cell_type": "markdown",
   "id": "77bd0e59",
   "metadata": {},
   "source": [
    "## 聚类性能指标"
   ]
  },
  {
   "cell_type": "code",
   "execution_count": 45,
   "id": "10e4c77f",
   "metadata": {},
   "outputs": [
    {
     "name": "stdout",
     "output_type": "stream",
     "text": [
      "Rand Index: 0.7777777777777778\n"
     ]
    }
   ],
   "source": [
    "from sklearn.metrics.cluster import rand_score\n",
    "from sklearn.metrics.cluster import mutual_info_score\n",
    "\n",
    "# 我们算法的聚类结果    \n",
    "labels = [1, 2, 2 ,1, 0, 1, 0, 2, 0, 1]\n",
    "\n",
    "# ground truth 的聚类结果\n",
    "gt_labels = [0, 1, 1, 0, 2, 1, 2, 0, 2, 0]\n",
    "\n",
    "# 计算Rand Index   \n",
    "rand = rand_score(gt_labels, labels)\n",
    "\n",
    "# 打印指标    \n",
    "print(f'Rand Index: {rand}')\n",
    "\n"
   ]
  },
  {
   "cell_type": "code",
   "execution_count": 12,
   "id": "713bd425",
   "metadata": {},
   "outputs": [
    {
     "name": "stdout",
     "output_type": "stream",
     "text": [
      "真实类编号: 1.000\n",
      "层次分类5: 0.112\n",
      "层次分类6: 0.139\n",
      "层次分类7: 0.066\n",
      "层次分类8: 0.076\n",
      "层次分类9: 0.099\n",
      "层次分类10: 0.085\n",
      "层次分类11: 0.075\n",
      "层次分类12: 0.091\n",
      "层次分类13: 0.094\n",
      "层次分类14: 0.102\n",
      "层次分类15: 0.099\n",
      "层次分类20: 0.072\n",
      "Kmeans(8,kmeans++): 0.050\n",
      "Kmeans(8,random): 0.088\n",
      "Kmeans(5,kmeans++): 0.038\n",
      "Kmeans(11,kmeans++): 0.036\n",
      "Kmeans(11,random): 0.063\n",
      "AffinityPropagation: 0.068\n",
      "cluster12m: 0.149\n",
      "cluster13m: 0.149\n",
      "cluster14m: 0.135\n",
      "cluster15m: 0.134\n",
      "cluster16m: 0.136\n",
      "cluster17m: 0.153\n",
      "cluster18m: 0.137\n",
      "cluster19m: 0.117\n",
      "cluster20m: 0.148\n",
      "cluster25m: 0.129\n",
      "cluster30m: 0.097\n"
     ]
    }
   ],
   "source": [
    "import pandas as pd\n",
    "from sklearn.metrics.cluster import rand_score\n",
    "\n",
    "# 读取数据\n",
    "df = pd.read_excel('D:\\\\KnowlegdgeGraph\\\\TextDataset\\\\vector\\\\真实分类信息.xlsx')\n",
    "\n",
    "# 获取正确聚类结果\n",
    "true_labels = df['真实类编号'].values\n",
    "\n",
    "# 遍历其他聚类结果\n",
    "for col in df.columns[1:]:\n",
    "    labels = df[col].values\n",
    "    # 计算 Rand Index  \n",
    "    rand = metrics.adjusted_rand_score(true_labels, labels)\n",
    "    \n",
    "    # 打印聚类方法名称和分数      \n",
    "    print(f'{col}: {rand:.3f}')"
   ]
  },
  {
   "cell_type": "code",
   "execution_count": 15,
   "id": "387dd81a",
   "metadata": {},
   "outputs": [
    {
     "name": "stdout",
     "output_type": "stream",
     "text": [
      "真实类编号: 1.000\n",
      "cluster12m: 0.149\n",
      "cluster13m: 0.149\n",
      "cluster14m: 0.135\n",
      "cluster15m: 0.134\n",
      "cluster16m: 0.136\n",
      "cluster17m: 0.153\n",
      "cluster18m: 0.137\n",
      "cluster19m: 0.117\n",
      "cluster20m: 0.148\n",
      "cluster25m: 0.129\n",
      "经过12m: 0.072\n",
      "直接原因: 0.222\n",
      "cluster30m: 0.097\n",
      "random（1）: -0.008\n",
      "random（2）: -0.002\n",
      "random（3）: -0.013\n",
      "random（4）: 0.006\n",
      "random（5）: 0.004\n",
      "random（6）: 0.009\n",
      "random8: -0.004\n",
      "random5: -0.004\n",
      "random12: -0.004\n",
      "random13: 0.002\n",
      "random14: -0.009\n",
      "random15: 0.008\n"
     ]
    }
   ],
   "source": [
    "import pandas as pd\n",
    "from sklearn import metrics\n",
    "\n",
    "# 读取数据\n",
    "df = pd.read_excel('D:\\\\KnowlegdgeGraph\\\\TextDataset\\\\vector\\\\cluster-m分类信息.xlsx')\n",
    "\n",
    "# 获取正确聚类结果\n",
    "true_labels = df['真实类编号'].values\n",
    "\n",
    "# 遍历其他聚类结果\n",
    "for col in df.columns[1:]:\n",
    "    labels = df[col].values\n",
    "    # 计算 Rand Index  \n",
    "    rand = metrics.adjusted_rand_score(true_labels, labels)\n",
    "    \n",
    "    # 打印聚类方法名称和分数      \n",
    "    print(f'{col}: {rand:.3f}')"
   ]
  },
  {
   "cell_type": "markdown",
   "id": "21239263",
   "metadata": {},
   "source": [
    "## 不同方法的聚类"
   ]
  },
  {
   "cell_type": "code",
   "execution_count": 77,
   "id": "877828a3",
   "metadata": {},
   "outputs": [
    {
     "name": "stderr",
     "output_type": "stream",
     "text": [
      "D:\\Anaconda\\envs\\py310code\\Lib\\site-packages\\sklearn\\cluster\\_kmeans.py:1412: FutureWarning: The default value of `n_init` will change from 10 to 'auto' in 1.4. Set the value of `n_init` explicitly to suppress the warning\n",
      "  super()._check_params_vs_input(X, default_n_init=10)\n",
      "D:\\Anaconda\\envs\\py310code\\Lib\\site-packages\\sklearn\\cluster\\_kmeans.py:1436: UserWarning: KMeans is known to have a memory leak on Windows with MKL, when there are less chunks than available threads. You can avoid it by setting the environment variable OMP_NUM_THREADS=1.\n",
      "  warnings.warn(\n"
     ]
    },
    {
     "name": "stdout",
     "output_type": "stream",
     "text": [
      "总共运行了-1281.866秒\n"
     ]
    }
   ],
   "source": [
    "import pandas as pd\n",
    "from sklearn.cluster import KMeans, MeanShift, AgglomerativeClustering\n",
    "from sklearn.cluster import DBSCAN, AffinityPropagation\n",
    "import os\n",
    "\n",
    "# 读取数据        \n",
    "df = pd.read_excel('D:\\\\KnowlegdgeGraph\\\\TextDataset\\\\vector\\\\摘要向量.xlsx')  \n",
    "\n",
    "# 提取特征        \n",
    "X = df.drop('事故编号', axis=1).values   \n",
    "\n",
    "# 初始化结果表格\n",
    "results = pd.DataFrame(index = df.index,\n",
    "   columns=['层次聚类','Kmeans','MeanShift','DBSCAN','AffinityPropagation'])\n",
    "\n",
    "# 起始时间\n",
    "start = time.time()\n",
    "\n",
    "# 进行层次聚类      \n",
    "#cluster = AgglomerativeClustering(n_clusters=11, linkage='ward')    \n",
    "#cluster.fit_predict(X)\n",
    "\n",
    "# Kmeans聚类\n",
    "kmeans = KMeans().fit(X)  \n",
    "results['Kmeans'] = kmeans.labels_\n",
    "\n",
    "# MeanShift聚类\n",
    "meanshift = MeanShift(bandwidth=1).fit(X) \n",
    "results['MeanShift'] = meanshift.labels_ \n",
    "\n",
    "# DBSCAN聚类\n",
    "db = DBSCAN(eps=1, min_samples=5)).fit(X)\n",
    "results['DBSCAN'] = db.labels_\n",
    "\n",
    "# AffinityPropagation聚类\n",
    "af = AffinityPropagation().fit(X)\n",
    "results['AffinityPropagation'] = af.labels_\n",
    "\n",
    "# 保存结果\n",
    "results.to_excel(os.path.join('D:\\\\KnowlegdgeGraph\\\\TextDataset\\\\vector','聚类结果.xlsx'), index=True)\n",
    "\n",
    "# 运行时间  \n",
    "print(f'总共运行了{end-start:.3f}秒')"
   ]
  },
  {
   "cell_type": "code",
   "execution_count": 99,
   "id": "0b6c019c",
   "metadata": {},
   "outputs": [
    {
     "name": "stdout",
     "output_type": "stream",
     "text": [
      "总共运行了-4032.902秒\n"
     ]
    },
    {
     "name": "stderr",
     "output_type": "stream",
     "text": [
      "D:\\Anaconda\\envs\\py310code\\Lib\\site-packages\\sklearn\\cluster\\_kmeans.py:1412: FutureWarning: The default value of `n_init` will change from 10 to 'auto' in 1.4. Set the value of `n_init` explicitly to suppress the warning\n",
      "  super()._check_params_vs_input(X, default_n_init=10)\n",
      "D:\\Anaconda\\envs\\py310code\\Lib\\site-packages\\sklearn\\cluster\\_kmeans.py:1436: UserWarning: KMeans is known to have a memory leak on Windows with MKL, when there are less chunks than available threads. You can avoid it by setting the environment variable OMP_NUM_THREADS=1.\n",
      "  warnings.warn(\n"
     ]
    }
   ],
   "source": [
    "import pandas as pd\n",
    "from sklearn.cluster import KMeans, MeanShift, AgglomerativeClustering\n",
    "from sklearn.cluster import DBSCAN, AffinityPropagation\n",
    "import os\n",
    "\n",
    "# 读取数据        \n",
    "df = pd.read_excel('D:\\\\KnowlegdgeGraph\\\\TextDataset\\\\vector\\\\摘要向量.xlsx')  \n",
    "\n",
    "# 提取特征        \n",
    "X = df.drop('事故编号', axis=1).values   \n",
    "\n",
    "# 初始化结果表格\n",
    "results = pd.DataFrame(index = df.index,\n",
    "   columns=['Kmeans'])\n",
    "\n",
    "# 起始时间\n",
    "start = time.time()\n",
    "\n",
    "# Kmeans聚类\n",
    "kmeans = KMeans(n_clusters = 8, init = 'random').fit(X)  \n",
    "results['Kmeans'] = kmeans.labels_\n",
    "\n",
    "# 保存结果\n",
    "results.to_excel(os.path.join('D:\\\\KnowlegdgeGraph\\\\TextDataset\\\\vector','kmeans.xlsx'), index=True)\n",
    "\n",
    "# 运行时间  \n",
    "print(f'总共运行了{end-start:.3f}秒')"
   ]
  },
  {
   "cell_type": "code",
   "execution_count": 105,
   "id": "e642d692",
   "metadata": {},
   "outputs": [],
   "source": [
    "import openpyxl\n",
    "import os\n",
    "\n",
    "# 定义Excel文件路径和导出txt文件路径\n",
    "excel_path = r'D:\\KnowlegdgeGraph\\TextDataset\\Vos可视化\\聚类结果\\摘要聚类试验\\基于事故类型的聚类可视化检验.xlsx'\n",
    "txt_path = r'D:\\KnowlegdgeGraph\\TextDataset\\Vos可视化\\聚类结果\\摘要聚类试验\\摘要map\\其他算法基于事故类型可视化聚类'\n",
    "\n",
    "# 创建txt文件保存路径\n",
    "if not os.path.exists(txt_path):\n",
    "    os.makedirs(txt_path)\n",
    "\n",
    "# 打开Excel文件\n",
    "workbook = openpyxl.load_workbook(excel_path)\n",
    "\n",
    "# 遍历Excel文件中的所有表格，并将其导出为txt文件\n",
    "for sheetname in workbook.sheetnames:\n",
    "    worksheet = workbook[sheetname]\n",
    "    txt_filename = os.path.join(txt_path, f'{sheetname}.txt')\n",
    "    with open(txt_filename, 'w', encoding='utf-8') as f:\n",
    "        for row in worksheet.iter_rows(values_only=True):\n",
    "            row_str = '\\t'.join(str(cell) for cell in row) + '\\n'\n",
    "            f.write(row_str)"
   ]
  }
 ],
 "metadata": {
  "kernelspec": {
   "display_name": "Python 3.10 (py310code)",
   "language": "python",
   "name": "py310code"
  },
  "language_info": {
   "codemirror_mode": {
    "name": "ipython",
    "version": 3
   },
   "file_extension": ".py",
   "mimetype": "text/x-python",
   "name": "python",
   "nbconvert_exporter": "python",
   "pygments_lexer": "ipython3",
   "version": "3.11.4"
  }
 },
 "nbformat": 4,
 "nbformat_minor": 5
}
